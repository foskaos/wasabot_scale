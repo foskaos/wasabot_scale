{
 "cells": [
  {
   "cell_type": "code",
   "execution_count": 8,
   "id": "initial_id",
   "metadata": {
    "collapsed": true,
    "ExecuteTime": {
     "end_time": "2023-11-11T15:16:18.223072Z",
     "start_time": "2023-11-11T15:16:18.217681Z"
    }
   },
   "outputs": [
    {
     "data": {
      "text/plain": "8388608"
     },
     "execution_count": 8,
     "metadata": {},
     "output_type": "execute_result"
    }
   ],
   "source": [
    "int(0x800000)"
   ]
  },
  {
   "cell_type": "code",
   "execution_count": 4,
   "outputs": [
    {
     "data": {
      "text/plain": "'0x7ca5b0'"
     },
     "execution_count": 4,
     "metadata": {},
     "output_type": "execute_result"
    }
   ],
   "source": [
    "hex(8168880)"
   ],
   "metadata": {
    "collapsed": false,
    "ExecuteTime": {
     "end_time": "2023-11-11T15:14:50.152315Z",
     "start_time": "2023-11-11T15:14:50.140655Z"
    }
   },
   "id": "8c322ebdbdfdb955"
  },
  {
   "cell_type": "code",
   "execution_count": 5,
   "outputs": [
    {
     "data": {
      "text/plain": "8388607"
     },
     "execution_count": 5,
     "metadata": {},
     "output_type": "execute_result"
    }
   ],
   "source": [
    "0x7FFFFF"
   ],
   "metadata": {
    "collapsed": false,
    "ExecuteTime": {
     "end_time": "2023-11-11T15:15:05.131828Z",
     "start_time": "2023-11-11T15:15:05.119031Z"
    }
   },
   "id": "ade36939de583eab"
  },
  {
   "cell_type": "code",
   "execution_count": null,
   "outputs": [],
   "source": [
    "Do not apply any load (X1 = 0Kg), now make a measurement, note down the ADC value from HX711 as Y1\n",
    "Apply a known load, say 1Kg (X2 = 1Kg), make a measurement, and note down the ADC value from HX711 as Y2\n",
    "Calculate the calibration factor, m = (X2-X1) / (Y2-Y1) : this gives you Kg per ADC code\n",
    "Since Y1 corresponds to no-load, this becomes offset c"
   ],
   "metadata": {
    "collapsed": false
   },
   "id": "84483847bc364fbc"
  },
  {
   "cell_type": "code",
   "execution_count": null,
   "outputs": [],
   "source": [],
   "metadata": {
    "collapsed": false
   },
   "id": "dfc5fdfcc60a43fa"
  },
  {
   "cell_type": "code",
   "execution_count": 13,
   "outputs": [],
   "source": [
    "y2 = -242500\n",
    "y1 = 73600\n",
    "x1 = 0\n",
    "x2 = 985\n",
    "\n",
    "\n",
    "m = (x2-x1)/(y2-y1)"
   ],
   "metadata": {
    "collapsed": false,
    "ExecuteTime": {
     "end_time": "2023-11-11T22:54:06.533723Z",
     "start_time": "2023-11-11T22:54:06.526577Z"
    }
   },
   "id": "c0fa2fddf545e0ea"
  },
  {
   "cell_type": "code",
   "execution_count": 12,
   "outputs": [
    {
     "data": {
      "text/plain": "-0.003116102499209111"
     },
     "execution_count": 12,
     "metadata": {},
     "output_type": "execute_result"
    }
   ],
   "source": [
    "m"
   ],
   "metadata": {
    "collapsed": false,
    "ExecuteTime": {
     "end_time": "2023-11-11T22:52:49.824915Z",
     "start_time": "2023-11-11T22:52:49.780361Z"
    }
   },
   "id": "998a4cb4cf9b0f5c"
  },
  {
   "cell_type": "markdown",
   "source": [
    "You need to just use a bit of math, so it will depend on how good your inner child is at math.\n",
    "You use the standard formula for slope and intersection: y = mx + b ... or m = (y - b)/x\n",
    "Here\n",
    "\n",
    "y is the actual weight in whatever units you want (g, kg, oz, etc)\n",
    "x is the raw value from the HX711 - from scale.read_average()\n",
    "m is your slope (multiplier)\n",
    "b is your intersection (offset) - also from scale.read_average() but with no weight, or using scale.tare()\n",
    "So say you have a raw value of 10000 for 0 weight (tare) and 20000 for 1000g, and want readings in g\n",
    "First, your offset (b) is 10000\n",
    "To calculate your multiplier (m) just substitute into the formula\n",
    "1000 = m * 20000 + 10000 ... or m = (1000 - 10000) / 20000\n",
    "Thus m = -0.45"
   ],
   "metadata": {
    "collapsed": false
   },
   "id": "47a054053cdfcf2b"
  },
  {
   "cell_type": "code",
   "execution_count": 14,
   "outputs": [
    {
     "data": {
      "text/plain": "0.2994432989690722"
     },
     "execution_count": 14,
     "metadata": {},
     "output_type": "execute_result"
    }
   ],
   "source": [
    "(985-73600)/(-242500)"
   ],
   "metadata": {
    "collapsed": false,
    "ExecuteTime": {
     "end_time": "2023-11-11T22:57:49.809705Z",
     "start_time": "2023-11-11T22:57:49.802786Z"
    }
   },
   "id": "7a0c4c441b13a1e3"
  },
  {
   "cell_type": "code",
   "execution_count": 17,
   "outputs": [],
   "source": [
    "a = 242500+73600"
   ],
   "metadata": {
    "collapsed": false,
    "ExecuteTime": {
     "end_time": "2023-11-11T23:03:41.732667Z",
     "start_time": "2023-11-11T23:03:41.726750Z"
    }
   },
   "id": "d9a0cb0195d5e908"
  },
  {
   "cell_type": "code",
   "execution_count": 19,
   "outputs": [],
   "source": [
    "m= -985/a"
   ],
   "metadata": {
    "collapsed": false,
    "ExecuteTime": {
     "end_time": "2023-11-11T23:04:34.282112Z",
     "start_time": "2023-11-11T23:04:34.274305Z"
    }
   },
   "id": "8fde70330bf16fdd"
  },
  {
   "cell_type": "code",
   "execution_count": 20,
   "outputs": [
    {
     "data": {
      "text/plain": "-229.34514394179058"
     },
     "execution_count": 20,
     "metadata": {},
     "output_type": "execute_result"
    }
   ],
   "source": [
    "m*73600"
   ],
   "metadata": {
    "collapsed": false,
    "ExecuteTime": {
     "end_time": "2023-11-11T23:04:54.309934Z",
     "start_time": "2023-11-11T23:04:54.294503Z"
    }
   },
   "id": "d1bf1bf03c1b11b1"
  },
  {
   "cell_type": "code",
   "execution_count": null,
   "outputs": [],
   "source": [],
   "metadata": {
    "collapsed": false
   },
   "id": "63e9f06061d3535"
  },
  {
   "cell_type": "code",
   "execution_count": 22,
   "outputs": [],
   "source": [
    "zero = 73100\n",
    "nine85 = -243100"
   ],
   "metadata": {
    "collapsed": false,
    "ExecuteTime": {
     "end_time": "2023-11-11T23:09:30.734358Z",
     "start_time": "2023-11-11T23:09:30.727688Z"
    }
   },
   "id": "28b46eb88e0699fa"
  },
  {
   "cell_type": "code",
   "execution_count": 25,
   "outputs": [
    {
     "data": {
      "text/plain": "-0.0031151170145477546"
     },
     "execution_count": 25,
     "metadata": {},
     "output_type": "execute_result"
    }
   ],
   "source": [
    "m = 985/(nine85 - zero)\n",
    "m"
   ],
   "metadata": {
    "collapsed": false,
    "ExecuteTime": {
     "end_time": "2023-11-11T23:10:17.927210Z",
     "start_time": "2023-11-11T23:10:17.919060Z"
    }
   },
   "id": "8deecba1bcf55d6a"
  },
  {
   "cell_type": "code",
   "execution_count": 28,
   "outputs": [
    {
     "data": {
      "text/plain": "227.71505376344086"
     },
     "execution_count": 28,
     "metadata": {},
     "output_type": "execute_result"
    }
   ],
   "source": [
    "b = -m*zero\n",
    "b"
   ],
   "metadata": {
    "collapsed": false,
    "ExecuteTime": {
     "end_time": "2023-11-11T23:13:45.784790Z",
     "start_time": "2023-11-11T23:13:45.735136Z"
    }
   },
   "id": "a5e10ddc9f81c82a"
  },
  {
   "cell_type": "code",
   "execution_count": 30,
   "outputs": [],
   "source": [
    "z = [1,2,3]"
   ],
   "metadata": {
    "collapsed": false,
    "ExecuteTime": {
     "end_time": "2023-11-12T00:01:03.252108Z",
     "start_time": "2023-11-12T00:01:03.242462Z"
    }
   },
   "id": "3b14ce3dd0c15ce"
  },
  {
   "cell_type": "code",
   "execution_count": 31,
   "outputs": [
    {
     "data": {
      "text/plain": "[3]"
     },
     "execution_count": 31,
     "metadata": {},
     "output_type": "execute_result"
    }
   ],
   "source": [
    "z[2:]"
   ],
   "metadata": {
    "collapsed": false,
    "ExecuteTime": {
     "end_time": "2023-11-12T00:01:11.156457Z",
     "start_time": "2023-11-12T00:01:11.137895Z"
    }
   },
   "id": "c2bf3fb7962a65f6"
  },
  {
   "cell_type": "code",
   "execution_count": null,
   "outputs": [],
   "source": [],
   "metadata": {
    "collapsed": false
   },
   "id": "220a89b16e98c654"
  }
 ],
 "metadata": {
  "kernelspec": {
   "display_name": "Python 3",
   "language": "python",
   "name": "python3"
  },
  "language_info": {
   "codemirror_mode": {
    "name": "ipython",
    "version": 2
   },
   "file_extension": ".py",
   "mimetype": "text/x-python",
   "name": "python",
   "nbconvert_exporter": "python",
   "pygments_lexer": "ipython2",
   "version": "2.7.6"
  }
 },
 "nbformat": 4,
 "nbformat_minor": 5
}
